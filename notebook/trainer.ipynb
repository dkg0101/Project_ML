{
 "cells": [
  {
   "cell_type": "code",
   "execution_count": 1,
   "metadata": {},
   "outputs": [],
   "source": [
    "from cmath import log\n",
    "import importlib\n",
    "from pyexpat import model\n",
    "import numpy as np\n",
    "import yaml\n",
    "from housing.exception import HousingException\n",
    "import os\n",
    "import sys\n",
    "\n",
    "from collections import namedtuple\n",
    "from typing import List\n",
    "from housing.logger import logging\n",
    "from sklearn.metrics import r2_score,mean_squared_error\n",
    "GRID_SEARCH_KEY = 'grid_search'\n",
    "MODULE_KEY = 'module'\n",
    "CLASS_KEY = 'class'\n",
    "PARAM_KEY = 'params'\n",
    "MODEL_SELECTION_KEY = 'model_selection'\n",
    "SEARCH_PARAM_GRID_KEY = \"search_param_grid\"\n"
   ]
  },
  {
   "cell_type": "code",
   "execution_count": 100,
   "metadata": {},
   "outputs": [],
   "source": [
    "class ModelFactory:\n",
    "    def __init__(self, model_config_path: str = None,):\n",
    "        try:\n",
    "            self.config: dict = ModelFactory.read_params(model_config_path)\n",
    "\n",
    "            self.grid_search_cv_module: str = self.config[GRID_SEARCH_KEY][MODULE_KEY]\n",
    "            self.grid_search_class_name: str = self.config[GRID_SEARCH_KEY][CLASS_KEY]\n",
    "            self.grid_search_property_data: dict = dict(self.config[GRID_SEARCH_KEY][PARAM_KEY])\n",
    "\n",
    "            self.models_initialization_config: dict = dict(self.config[MODEL_SELECTION_KEY])\n",
    "\n",
    "            self.initialized_model_list = None\n",
    "            self.grid_searched_best_model_list = None\n",
    "\n",
    "        except Exception as e:\n",
    "            raise HousingException(e, sys) from e\n",
    " \n",
    "    @staticmethod\n",
    "    def read_params(config_path: str) -> dict:\n",
    "        try:\n",
    "            with open(config_path) as yaml_file:\n",
    "                config:dict = yaml.safe_load(yaml_file)\n",
    "            return config\n",
    "        except Exception as e:\n",
    "            raise HousingException(e, sys) from e       \n",
    "        \n",
    "    @staticmethod\n",
    "    def class_for_name(module_name:str, class_name:str):\n",
    "        try:\n",
    "            # load the module, will raise ImportError if module cannot be loaded\n",
    "            module = importlib.import_module(module_name)\n",
    "            # get the class, will raise AttributeError if class cannot be found\n",
    "            logging.info(f\"Executing command: from {module} import {class_name}\")\n",
    "            class_ref = getattr(module, class_name)\n",
    "            return class_ref\n",
    "        except Exception as e:\n",
    "            raise HousingException(e, sys) from e\n",
    "        \n",
    "    @staticmethod\n",
    "    def update_property_of_class(instance_ref:object, property_data: dict):\n",
    "        try:\n",
    "            if not isinstance(property_data, dict):\n",
    "                raise Exception(\"property_data parameter required to dictionary\")\n",
    "            print(property_data)\n",
    "            for key, value in property_data.items():\n",
    "                logging.info(f\"Executing:$ {str(instance_ref)}.{key}={value}\")\n",
    "                setattr(instance_ref, key, value)\n",
    "            return instance_ref\n",
    "        except Exception as e:\n",
    "            raise HousingException(e, sys) from e    \n",
    "\n",
    "    "
   ]
  },
  {
   "cell_type": "code",
   "execution_count": 101,
   "metadata": {},
   "outputs": [],
   "source": [
    "model_config_file_path=\"F:\\MachineLearningProject\\Project_ML\\config\\model.yaml\""
   ]
  },
  {
   "cell_type": "code",
   "execution_count": 102,
   "metadata": {},
   "outputs": [],
   "source": [
    "factory = ModelFactory(model_config_path=model_config_file_path)"
   ]
  },
  {
   "cell_type": "code",
   "execution_count": 11,
   "metadata": {},
   "outputs": [
    {
     "data": {
      "text/plain": [
       "True"
      ]
     },
     "execution_count": 11,
     "metadata": {},
     "output_type": "execute_result"
    }
   ],
   "source": [
    "os.path.exists(model_config_file_path)"
   ]
  },
  {
   "cell_type": "code",
   "execution_count": 30,
   "metadata": {},
   "outputs": [
    {
     "data": {
      "text/plain": [
       "{'grid_search': {'class': 'GridSearchCV',\n",
       "  'module': 'sklearn.model_selection',\n",
       "  'params': {'cv': 5, 'verbose': 2}},\n",
       " 'model_selection': {'module_0': {'class': 'LinearRegression',\n",
       "   'module': 'sklearn.linear_model',\n",
       "   'params': {'fit_intercept': True},\n",
       "   'search_param_grid': {'fit_intercept': [True, False]}},\n",
       "  'module_1': {'class': 'RandomForestRegressor',\n",
       "   'module': 'sklearn.ensemble',\n",
       "   'params': {'min_samples_leaf': 3},\n",
       "   'search_param_grid': {'min_samples_leaf': [4, 6],\n",
       "    'n_estimators': [100, 150],\n",
       "    'max_depth': [3, 5, 7, 9]}}}}"
      ]
     },
     "execution_count": 30,
     "metadata": {},
     "output_type": "execute_result"
    }
   ],
   "source": [
    "conf = factory.config\n",
    "conf"
   ]
  },
  {
   "cell_type": "code",
   "execution_count": 19,
   "metadata": {},
   "outputs": [
    {
     "data": {
      "text/plain": [
       "{'class': 'GridSearchCV',\n",
       " 'module': 'sklearn.model_selection',\n",
       " 'params': {'cv': 5, 'verbose': 2}}"
      ]
     },
     "execution_count": 19,
     "metadata": {},
     "output_type": "execute_result"
    }
   ],
   "source": [
    "conf[GRID_SEARCH_KEY]"
   ]
  },
  {
   "cell_type": "code",
   "execution_count": 20,
   "metadata": {},
   "outputs": [
    {
     "data": {
      "text/plain": [
       "'sklearn.model_selection'"
      ]
     },
     "execution_count": 20,
     "metadata": {},
     "output_type": "execute_result"
    }
   ],
   "source": [
    "conf[GRID_SEARCH_KEY][MODULE_KEY]"
   ]
  },
  {
   "cell_type": "code",
   "execution_count": 21,
   "metadata": {},
   "outputs": [
    {
     "data": {
      "text/plain": [
       "{'cv': 5, 'verbose': 2}"
      ]
     },
     "execution_count": 21,
     "metadata": {},
     "output_type": "execute_result"
    }
   ],
   "source": [
    "conf[GRID_SEARCH_KEY][PARAM_KEY]"
   ]
  },
  {
   "cell_type": "code",
   "execution_count": 25,
   "metadata": {},
   "outputs": [
    {
     "data": {
      "text/plain": [
       "{'module_0': {'class': 'LinearRegression',\n",
       "  'module': 'sklearn.linear_model',\n",
       "  'params': {'fit_intercept': True},\n",
       "  'search_param_grid': {'fit_intercept': [True, False]}},\n",
       " 'module_1': {'class': 'RandomForestRegressor',\n",
       "  'module': 'sklearn.ensemble',\n",
       "  'params': {'min_samples_leaf': 3},\n",
       "  'search_param_grid': {'min_samples_leaf': [4, 6],\n",
       "   'n_estimators': [100, 150],\n",
       "   'max_depth': [3, 5, 7, 9]}}}"
      ]
     },
     "execution_count": 25,
     "metadata": {},
     "output_type": "execute_result"
    }
   ],
   "source": [
    "(conf[MODEL_SELECTION_KEY])"
   ]
  },
  {
   "cell_type": "code",
   "execution_count": 45,
   "metadata": {},
   "outputs": [
    {
     "data": {
      "text/plain": [
       "'GridSearchCV'"
      ]
     },
     "execution_count": 45,
     "metadata": {},
     "output_type": "execute_result"
    }
   ],
   "source": [
    "class_name=conf[GRID_SEARCH_KEY][CLASS_KEY]\n",
    "class_name"
   ]
  },
  {
   "cell_type": "code",
   "execution_count": 74,
   "metadata": {},
   "outputs": [],
   "source": []
  },
  {
   "cell_type": "code",
   "execution_count": 77,
   "metadata": {},
   "outputs": [
    {
     "data": {
      "text/plain": [
       "{'cv': 5, 'verbose': 2}"
      ]
     },
     "execution_count": 77,
     "metadata": {},
     "output_type": "execute_result"
    }
   ],
   "source": [
    "property_data = factory.grid_search_property_data\n",
    "property_data"
   ]
  },
  {
   "cell_type": "code",
   "execution_count": null,
   "metadata": {},
   "outputs": [],
   "source": [
    "p"
   ]
  },
  {
   "cell_type": "code",
   "execution_count": 78,
   "metadata": {},
   "outputs": [],
   "source": [
    "setattr(gsv,'cv',5)"
   ]
  },
  {
   "cell_type": "code",
   "execution_count": 83,
   "metadata": {},
   "outputs": [],
   "source": [
    "lr = getattr(importlib.import_module('sklearn.linear_model'),'LinearRegression')"
   ]
  },
  {
   "cell_type": "code",
   "execution_count": 86,
   "metadata": {},
   "outputs": [
    {
     "data": {
      "text/plain": [
       "{'copy_X': True,\n",
       " 'fit_intercept': True,\n",
       " 'n_jobs': None,\n",
       " 'normalize': 'deprecated',\n",
       " 'positive': False}"
      ]
     },
     "execution_count": 86,
     "metadata": {},
     "output_type": "execute_result"
    }
   ],
   "source": [
    "model = lr()\n",
    "model.get_params()"
   ]
  },
  {
   "cell_type": "code",
   "execution_count": 87,
   "metadata": {},
   "outputs": [],
   "source": [
    "setattr(model,'fit_intercept',False)"
   ]
  },
  {
   "cell_type": "code",
   "execution_count": 88,
   "metadata": {},
   "outputs": [
    {
     "data": {
      "text/plain": [
       "{'copy_X': True,\n",
       " 'fit_intercept': False,\n",
       " 'n_jobs': None,\n",
       " 'normalize': 'deprecated',\n",
       " 'positive': False}"
      ]
     },
     "execution_count": 88,
     "metadata": {},
     "output_type": "execute_result"
    }
   ],
   "source": [
    "model.get_params()"
   ]
  },
  {
   "cell_type": "code",
   "execution_count": 95,
   "metadata": {},
   "outputs": [
    {
     "name": "stdout",
     "output_type": "stream",
     "text": [
      "{'fit_intercept': True}\n",
      "{'min_samples_leaf': 3}\n"
     ]
    }
   ],
   "source": [
    "for i in factory.models_initialization_config.keys():\n",
    "     print(factory.models_initialization_config[i][PARAM_KEY])"
   ]
  },
  {
   "cell_type": "code",
   "execution_count": 97,
   "metadata": {},
   "outputs": [
    {
     "data": {
      "text/plain": [
       "{'fit_intercept': [True, False]}"
      ]
     },
     "execution_count": 97,
     "metadata": {},
     "output_type": "execute_result"
    }
   ],
   "source": [
    "factory.models_initialization_config['module_0'][SEARCH_PARAM_GRID_KEY]"
   ]
  },
  {
   "cell_type": "code",
   "execution_count": 98,
   "metadata": {},
   "outputs": [],
   "source": [
    "InitializedModelDetail = namedtuple(\"InitializedModelDetail\",\n",
    "                                    [\"model_serial_number\", \"model\", \"param_grid_search\", \"model_name\"])"
   ]
  },
  {
   "cell_type": "code",
   "execution_count": 103,
   "metadata": {},
   "outputs": [
    {
     "name": "stdout",
     "output_type": "stream",
     "text": [
      "{'fit_intercept': True}\n",
      "{'min_samples_leaf': 3}\n",
      "[InitializedModelDetail(model_serial_number='module_0', model=LinearRegression(), param_grid_search={'fit_intercept': [True, False]}, model_name='sklearn.linear_model.LinearRegression'), InitializedModelDetail(model_serial_number='module_1', model=RandomForestRegressor(min_samples_leaf=3), param_grid_search={'min_samples_leaf': [4, 6], 'n_estimators': [100, 150], 'max_depth': [3, 5, 7, 9]}, model_name='sklearn.ensemble.RandomForestRegressor')]\n"
     ]
    }
   ],
   "source": [
    "initialized_model_list = []\n",
    "for model_serial_number in factory.models_initialization_config.keys():\n",
    "\n",
    "    model_initialization_config = factory.models_initialization_config[model_serial_number]\n",
    "    model_obj_ref = ModelFactory.class_for_name(module_name=model_initialization_config[MODULE_KEY],\n",
    "                                                class_name=model_initialization_config[CLASS_KEY]\n",
    "                                                )\n",
    "    model = model_obj_ref()\n",
    "    \n",
    "    if PARAM_KEY in model_initialization_config:\n",
    "        model_obj_property_data = dict(model_initialization_config[PARAM_KEY])\n",
    "        model = ModelFactory.update_property_of_class(instance_ref=model,\n",
    "                                                        property_data=model_obj_property_data)\n",
    "\n",
    "    param_grid_search = model_initialization_config[SEARCH_PARAM_GRID_KEY]\n",
    "    model_name = f\"{model_initialization_config[MODULE_KEY]}.{model_initialization_config[CLASS_KEY]}\"\n",
    "\n",
    "    model_initialization_config = InitializedModelDetail(model_serial_number=model_serial_number,\n",
    "                                                            model=model,\n",
    "                                                            param_grid_search=param_grid_search,\n",
    "                                                            model_name=model_name\n",
    "                                                            )\n",
    "\n",
    "    initialized_model_list.append(model_initialization_config)\n",
    "\n",
    "factory.initialized_model_list = initialized_model_list\n",
    "print(factory.initialized_model_list)"
   ]
  },
  {
   "cell_type": "code",
   "execution_count": 107,
   "metadata": {},
   "outputs": [
    {
     "data": {
      "text/plain": [
       "__main__.InitializedModelDetail"
      ]
     },
     "execution_count": 107,
     "metadata": {},
     "output_type": "execute_result"
    }
   ],
   "source": [
    "type(initialized_model_list[0])"
   ]
  },
  {
   "cell_type": "code",
   "execution_count": 111,
   "metadata": {},
   "outputs": [
    {
     "data": {
      "text/plain": [
       "{'fit_intercept': [True, False]}"
      ]
     },
     "execution_count": 111,
     "metadata": {},
     "output_type": "execute_result"
    }
   ],
   "source": [
    "initialized_model_list[0].param_grid_search"
   ]
  },
  {
   "cell_type": "code",
   "execution_count": null,
   "metadata": {},
   "outputs": [],
   "source": []
  },
  {
   "cell_type": "code",
   "execution_count": 113,
   "metadata": {},
   "outputs": [
    {
     "data": {
      "text/plain": [
       "[InitializedModelDetail(model_serial_number='module_0', model=LinearRegression(), param_grid_search={'fit_intercept': [True, False]}, model_name='sklearn.linear_model.LinearRegression'),\n",
       " InitializedModelDetail(model_serial_number='module_1', model=RandomForestRegressor(min_samples_leaf=3), param_grid_search={'min_samples_leaf': [4, 6], 'n_estimators': [100, 150], 'max_depth': [3, 5, 7, 9]}, model_name='sklearn.ensemble.RandomForestRegressor')]"
      ]
     },
     "execution_count": 113,
     "metadata": {},
     "output_type": "execute_result"
    }
   ],
   "source": [
    "model_details = initialized_model_list\n",
    "model_details\n"
   ]
  },
  {
   "cell_type": "code",
   "execution_count": 115,
   "metadata": {},
   "outputs": [
    {
     "name": "stdout",
     "output_type": "stream",
     "text": [
      "module_0\n",
      "module_1\n",
      "InitializedModelDetail(model_serial_number='module_1', model=RandomForestRegressor(min_samples_leaf=3), param_grid_search={'min_samples_leaf': [4, 6], 'n_estimators': [100, 150], 'max_depth': [3, 5, 7, 9]}, model_name='sklearn.ensemble.RandomForestRegressor')\n"
     ]
    }
   ],
   "source": [
    "for model_data in model_details:\n",
    "    print(model_data.model_serial_number)\n",
    "    if model_data.model_serial_number == model_serial_number:\n",
    "        print(model_data)"
   ]
  },
  {
   "cell_type": "code",
   "execution_count": null,
   "metadata": {},
   "outputs": [],
   "source": []
  }
 ],
 "metadata": {
  "kernelspec": {
   "display_name": "Python 3",
   "language": "python",
   "name": "python3"
  },
  "language_info": {
   "codemirror_mode": {
    "name": "ipython",
    "version": 3
   },
   "file_extension": ".py",
   "mimetype": "text/x-python",
   "name": "python",
   "nbconvert_exporter": "python",
   "pygments_lexer": "ipython3",
   "version": "3.7.0"
  },
  "orig_nbformat": 4
 },
 "nbformat": 4,
 "nbformat_minor": 2
}
